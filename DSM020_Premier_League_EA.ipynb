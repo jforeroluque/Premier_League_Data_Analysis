{
 "cells": [
  {
   "metadata": {},
   "cell_type": "markdown",
   "source": [
    "<!DOCTYPE html>\n",
    "<html lang=\"en\">\n",
    "<head>\n",
    "    <meta charset=\"UTF-8\">\n",
    "    <meta name=\"viewport\" content=\"width=device-width, initial-scale=1.0\">\n",
    "    <title>Styled HTML Template</title>\n",
    "    <link rel=\"preconnect\" href=\"https://fonts.googleapis.com\">\n",
    "    <link rel=\"preconnect\" href=\"https://fonts.gstatic.com\" crossorigin>\n",
    "    <link href=\"https://fonts.googleapis.com/css2?family=Open+Sans:ital,wght@0,300..800;1,300..800&display=swap\" rel=\"stylesheet\">\n",
    "</head>\n",
    "<body style=\"font-family: 'Open Sans', sans-serif;\">\n",
    "    <h1 style=\"color: #2c3e50; font-weight: 700;\">DSM020 Premier League Exploratory Analysis</h1>\n",
    "    <p style=\"color: #AA6373; font-weight: 400;\">Presented by: Jorge Forero L.</p>\n",
    "    <p style=\"color: #AA6373; font-weight: 400;\">Student Number: 240323983</p>\n",
    "    <p style=\"color: #AA6373; font-weight: 400;\">Student Portal Username: JEFL1</p>\n",
    "</body>\n",
    "</html>\n"
   ],
   "id": "5fd318a2ceaad36c"
  },
  {
   "cell_type": "code",
   "id": "initial_id",
   "metadata": {
    "collapsed": true,
    "ExecuteTime": {
     "end_time": "2024-07-19T00:25:31.025536Z",
     "start_time": "2024-07-19T00:25:31.021941Z"
    }
   },
   "source": [
    "import numpy as np\n",
    "import pandas as pd\n",
    "import seaborn as sns\n",
    "import matplotlib.pyplot as plt"
   ],
   "outputs": [],
   "execution_count": 1
  },
  {
   "metadata": {
    "ExecuteTime": {
     "end_time": "2024-07-19T00:25:37.471447Z",
     "start_time": "2024-07-19T00:25:37.428622Z"
    }
   },
   "cell_type": "code",
   "source": [
    "#Load Data\n",
    "Season2020 = '/Users/jorgeforero/University of London/DSM020 - Data Programming in Python/Premier_League_Data_Analysis/Season_2019-2020.csv'\n",
    "Season2021 = '/Users/jorgeforero/University of London/DSM020 - Data Programming in Python/Premier_League_Data_Analysis/Season_2020-2021.csv'\n",
    "Season2022 = '/Users/jorgeforero/University of London/DSM020 - Data Programming in Python/Premier_League_Data_Analysis/Season_2021-2022.csv'\n",
    "Season2023 = '/Users/jorgeforero/University of London/DSM020 - Data Programming in Python/Premier_League_Data_Analysis/Season_2022-2023.csv'\n",
    "Season2024 = '/Users/jorgeforero/University of London/DSM020 - Data Programming in Python/Premier_League_Data_Analysis/Season_2023-2024.csv'\n",
    "\n",
    "df2020 = pd.read_csv(Season2020)\n",
    "df2021 = pd.read_csv(Season2021)\n",
    "df2022 = pd.read_csv(Season2022)\n",
    "df2023 = pd.read_csv(Season2023)\n",
    "df2024 = pd.read_csv(Season2024)\n",
    "\n",
    "merged_df = pd.concat([df2020, df2021, df2022, df2023, df2024], ignore_index=True)"
   ],
   "id": "955417fe9149dd3b",
   "outputs": [],
   "execution_count": 2
  },
  {
   "metadata": {
    "ExecuteTime": {
     "end_time": "2024-07-19T00:25:42.541092Z",
     "start_time": "2024-07-19T00:25:42.529049Z"
    }
   },
   "cell_type": "code",
   "source": [
    "# Find the index of the column 'AvgA'\n",
    "avg_a_index = merged_df.columns.get_loc('AvgA')\n",
    "\n",
    "# Select all columns up to and including 'AvgA'\n",
    "columns_to_keep = merged_df.columns[:avg_a_index + 1]\n",
    "\n",
    "# Create a new DataFrame with only the selected columns\n",
    "filtered_df = merged_df[columns_to_keep]\n",
    "\n",
    "# Check the result\n",
    "print(filtered_df.head())\n",
    "print(filtered_df.columns)"
   ],
   "id": "e4ae08fd725ec46c",
   "outputs": [
    {
     "name": "stdout",
     "output_type": "stream",
     "text": [
      "  Div        Date   Time        HomeTeam          AwayTeam  FTHG  FTAG FTR  \\\n",
      "0  E0  09/08/2019  20:00       Liverpool           Norwich     4     1   H   \n",
      "1  E0  10/08/2019  12:30        West Ham          Man City     0     5   A   \n",
      "2  E0  10/08/2019  15:00     Bournemouth  Sheffield United     1     1   D   \n",
      "3  E0  10/08/2019  15:00         Burnley       Southampton     3     0   H   \n",
      "4  E0  10/08/2019  15:00  Crystal Palace           Everton     0     0   D   \n",
      "\n",
      "   HTHG  HTAG  ...    WHA    VCH  VCD    VCA   MaxH   MaxD   MaxA   AvgH  \\\n",
      "0     4     0  ...  21.00   1.14  9.5  23.00   1.16  10.00  23.00   1.14   \n",
      "1     0     1  ...   1.24  12.00  6.5   1.25  13.00   6.75   1.29  11.84   \n",
      "2     0     0  ...   3.80   2.00  3.6   4.00   2.06   3.65   4.00   2.01   \n",
      "3     0     0  ...   2.75   2.70  3.3   2.80   2.80   3.33   2.85   2.68   \n",
      "4     0     0  ...   2.35   3.20  3.3   2.45   3.21   3.40   2.52   3.13   \n",
      "\n",
      "   AvgD   AvgA  \n",
      "0  8.75  19.83  \n",
      "1  6.28   1.25  \n",
      "2  3.53   3.83  \n",
      "3  3.22   2.78  \n",
      "4  3.27   2.40  \n",
      "\n",
      "[5 rows x 48 columns]\n",
      "Index(['Div', 'Date', 'Time', 'HomeTeam', 'AwayTeam', 'FTHG', 'FTAG', 'FTR',\n",
      "       'HTHG', 'HTAG', 'HTR', 'Referee', 'HS', 'AS', 'HST', 'AST', 'HF', 'AF',\n",
      "       'HC', 'AC', 'HY', 'AY', 'HR', 'AR', 'B365H', 'B365D', 'B365A', 'BWH',\n",
      "       'BWD', 'BWA', 'IWH', 'IWD', 'IWA', 'PSH', 'PSD', 'PSA', 'WHH', 'WHD',\n",
      "       'WHA', 'VCH', 'VCD', 'VCA', 'MaxH', 'MaxD', 'MaxA', 'AvgH', 'AvgD',\n",
      "       'AvgA'],\n",
      "      dtype='object')\n"
     ]
    }
   ],
   "execution_count": 3
  },
  {
   "metadata": {
    "ExecuteTime": {
     "end_time": "2024-07-19T00:43:01.871410Z",
     "start_time": "2024-07-19T00:43:01.851230Z"
    }
   },
   "cell_type": "code",
   "source": [
    "#Missing Values\n",
    "missing_values = filtered_df.isnull().sum()\n",
    "\n",
    "print(\"Missing values per column\")\n",
    "print(missing_values)\n",
    "print(filtered_df.info)"
   ],
   "id": "79285f4494d09e5c",
   "outputs": [
    {
     "name": "stdout",
     "output_type": "stream",
     "text": [
      "Missing values per column\n",
      "Div           0\n",
      "Date          0\n",
      "Time          0\n",
      "HomeTeam      0\n",
      "AwayTeam      0\n",
      "FTHG          0\n",
      "FTAG          0\n",
      "FTR           0\n",
      "HTHG          0\n",
      "HTAG          0\n",
      "HTR           0\n",
      "Referee       0\n",
      "HS            0\n",
      "AS            0\n",
      "HST           0\n",
      "AST           0\n",
      "HF            0\n",
      "AF            0\n",
      "HC            0\n",
      "AC            0\n",
      "HY            0\n",
      "AY            0\n",
      "HR            0\n",
      "AR            0\n",
      "B365H         0\n",
      "B365D         0\n",
      "B365A         0\n",
      "BWH           2\n",
      "BWD           2\n",
      "BWA           2\n",
      "IWH         182\n",
      "IWD         182\n",
      "IWA         182\n",
      "PSH           0\n",
      "PSD           0\n",
      "PSA           0\n",
      "WHH           0\n",
      "WHD           0\n",
      "WHA           0\n",
      "VCH           0\n",
      "VCD           0\n",
      "VCA           0\n",
      "MaxH          0\n",
      "MaxD          0\n",
      "MaxA          0\n",
      "AvgH          0\n",
      "AvgD          0\n",
      "AvgA          0\n",
      "dtype: int64\n",
      "<bound method DataFrame.info of      Div        Date   Time          HomeTeam          AwayTeam  FTHG  FTAG  \\\n",
      "0     E0  09/08/2019  20:00         Liverpool           Norwich     4     1   \n",
      "1     E0  10/08/2019  12:30          West Ham          Man City     0     5   \n",
      "2     E0  10/08/2019  15:00       Bournemouth  Sheffield United     1     1   \n",
      "3     E0  10/08/2019  15:00           Burnley       Southampton     3     0   \n",
      "4     E0  10/08/2019  15:00    Crystal Palace           Everton     0     0   \n",
      "...   ..         ...    ...               ...               ...   ...   ...   \n",
      "1895  E0  19/05/2024  16:00    Crystal Palace       Aston Villa     5     0   \n",
      "1896  E0  19/05/2024  16:00         Liverpool            Wolves     2     0   \n",
      "1897  E0  19/05/2024  16:00             Luton            Fulham     2     4   \n",
      "1898  E0  19/05/2024  16:00          Man City          West Ham     3     1   \n",
      "1899  E0  19/05/2024  16:00  Sheffield United         Tottenham     0     3   \n",
      "\n",
      "     FTR  HTHG  HTAG  ...    WHA    VCH    VCD    VCA   MaxH   MaxD   MaxA  \\\n",
      "0      H     4     0  ...  21.00   1.14   9.50  23.00   1.16  10.00  23.00   \n",
      "1      A     0     1  ...   1.24  12.00   6.50   1.25  13.00   6.75   1.29   \n",
      "2      D     0     0  ...   3.80   2.00   3.60   4.00   2.06   3.65   4.00   \n",
      "3      H     0     0  ...   2.75   2.70   3.30   2.80   2.80   3.33   2.85   \n",
      "4      D     0     0  ...   2.35   3.20   3.30   2.45   3.21   3.40   2.52   \n",
      "...   ..   ...   ...  ...    ...    ...    ...    ...    ...    ...    ...   \n",
      "1895   H     2     0  ...   3.50   1.80   4.00   3.70   1.93   4.50   3.84   \n",
      "1896   H     2     0  ...  15.00   1.13   8.00  15.00   1.18  10.00  17.00   \n",
      "1897   A     1     2  ...   2.20   2.88   3.75   2.20   3.00   4.35   2.30   \n",
      "1898   H     2     1  ...  21.00   1.07  10.50  22.00   1.11  14.00  25.00   \n",
      "1899   A     0     1  ...   1.30   7.50   5.75   1.30   7.90   6.34   1.39   \n",
      "\n",
      "       AvgH   AvgD   AvgA  \n",
      "0      1.14   8.75  19.83  \n",
      "1     11.84   6.28   1.25  \n",
      "2      2.01   3.53   3.83  \n",
      "3      2.68   3.22   2.78  \n",
      "4      3.13   3.27   2.40  \n",
      "...     ...    ...    ...  \n",
      "1895   1.87   4.28   3.67  \n",
      "1896   1.16   8.71  14.55  \n",
      "1897   2.92   3.95   2.23  \n",
      "1898   1.10  11.72  21.81  \n",
      "1899   7.32   6.04   1.35  \n",
      "\n",
      "[1900 rows x 48 columns]>\n"
     ]
    }
   ],
   "execution_count": 4
  },
  {
   "metadata": {
    "ExecuteTime": {
     "end_time": "2024-07-19T00:43:14.454653Z",
     "start_time": "2024-07-19T00:43:14.446871Z"
    }
   },
   "cell_type": "code",
   "source": [
    "# Step 2: Drop Specific Columns 'IWH', 'IWD', 'IWA'\n",
    "columns_to_drop = ['IWH', 'IWD', 'IWA']\n",
    "filtered_df = filtered_df.drop(columns=columns_to_drop, errors='ignore')  # errors='ignore' ensures no error if columns not present\n",
    "\n",
    "# Check the result\n",
    "print(filtered_df.head())\n",
    "print(filtered_df.columns)"
   ],
   "id": "ef4f90f252f502c8",
   "outputs": [
    {
     "name": "stdout",
     "output_type": "stream",
     "text": [
      "  Div        Date   Time        HomeTeam          AwayTeam  FTHG  FTAG FTR  \\\n",
      "0  E0  09/08/2019  20:00       Liverpool           Norwich     4     1   H   \n",
      "1  E0  10/08/2019  12:30        West Ham          Man City     0     5   A   \n",
      "2  E0  10/08/2019  15:00     Bournemouth  Sheffield United     1     1   D   \n",
      "3  E0  10/08/2019  15:00         Burnley       Southampton     3     0   H   \n",
      "4  E0  10/08/2019  15:00  Crystal Palace           Everton     0     0   D   \n",
      "\n",
      "   HTHG  HTAG  ...    WHA    VCH  VCD    VCA   MaxH   MaxD   MaxA   AvgH  \\\n",
      "0     4     0  ...  21.00   1.14  9.5  23.00   1.16  10.00  23.00   1.14   \n",
      "1     0     1  ...   1.24  12.00  6.5   1.25  13.00   6.75   1.29  11.84   \n",
      "2     0     0  ...   3.80   2.00  3.6   4.00   2.06   3.65   4.00   2.01   \n",
      "3     0     0  ...   2.75   2.70  3.3   2.80   2.80   3.33   2.85   2.68   \n",
      "4     0     0  ...   2.35   3.20  3.3   2.45   3.21   3.40   2.52   3.13   \n",
      "\n",
      "   AvgD   AvgA  \n",
      "0  8.75  19.83  \n",
      "1  6.28   1.25  \n",
      "2  3.53   3.83  \n",
      "3  3.22   2.78  \n",
      "4  3.27   2.40  \n",
      "\n",
      "[5 rows x 45 columns]\n",
      "Index(['Div', 'Date', 'Time', 'HomeTeam', 'AwayTeam', 'FTHG', 'FTAG', 'FTR',\n",
      "       'HTHG', 'HTAG', 'HTR', 'Referee', 'HS', 'AS', 'HST', 'AST', 'HF', 'AF',\n",
      "       'HC', 'AC', 'HY', 'AY', 'HR', 'AR', 'B365H', 'B365D', 'B365A', 'BWH',\n",
      "       'BWD', 'BWA', 'PSH', 'PSD', 'PSA', 'WHH', 'WHD', 'WHA', 'VCH', 'VCD',\n",
      "       'VCA', 'MaxH', 'MaxD', 'MaxA', 'AvgH', 'AvgD', 'AvgA'],\n",
      "      dtype='object')\n"
     ]
    }
   ],
   "execution_count": 5
  },
  {
   "metadata": {
    "ExecuteTime": {
     "end_time": "2024-07-19T00:44:29.397969Z",
     "start_time": "2024-07-19T00:44:29.374618Z"
    }
   },
   "cell_type": "code",
   "source": [
    "#Missing Values\n",
    "missing_values = filtered_df.isnull().sum()\n",
    "\n",
    "print(\"Missing values per column\")\n",
    "print(missing_values)\n",
    "print(filtered_df.info)"
   ],
   "id": "8b35181c68865106",
   "outputs": [
    {
     "name": "stdout",
     "output_type": "stream",
     "text": [
      "Missing values per column\n",
      "Div         0\n",
      "Date        0\n",
      "Time        0\n",
      "HomeTeam    0\n",
      "AwayTeam    0\n",
      "FTHG        0\n",
      "FTAG        0\n",
      "FTR         0\n",
      "HTHG        0\n",
      "HTAG        0\n",
      "HTR         0\n",
      "Referee     0\n",
      "HS          0\n",
      "AS          0\n",
      "HST         0\n",
      "AST         0\n",
      "HF          0\n",
      "AF          0\n",
      "HC          0\n",
      "AC          0\n",
      "HY          0\n",
      "AY          0\n",
      "HR          0\n",
      "AR          0\n",
      "B365H       0\n",
      "B365D       0\n",
      "B365A       0\n",
      "BWH         2\n",
      "BWD         2\n",
      "BWA         2\n",
      "PSH         0\n",
      "PSD         0\n",
      "PSA         0\n",
      "WHH         0\n",
      "WHD         0\n",
      "WHA         0\n",
      "VCH         0\n",
      "VCD         0\n",
      "VCA         0\n",
      "MaxH        0\n",
      "MaxD        0\n",
      "MaxA        0\n",
      "AvgH        0\n",
      "AvgD        0\n",
      "AvgA        0\n",
      "dtype: int64\n",
      "<bound method DataFrame.info of      Div        Date   Time          HomeTeam          AwayTeam  FTHG  FTAG  \\\n",
      "0     E0  09/08/2019  20:00         Liverpool           Norwich     4     1   \n",
      "1     E0  10/08/2019  12:30          West Ham          Man City     0     5   \n",
      "2     E0  10/08/2019  15:00       Bournemouth  Sheffield United     1     1   \n",
      "3     E0  10/08/2019  15:00           Burnley       Southampton     3     0   \n",
      "4     E0  10/08/2019  15:00    Crystal Palace           Everton     0     0   \n",
      "...   ..         ...    ...               ...               ...   ...   ...   \n",
      "1895  E0  19/05/2024  16:00    Crystal Palace       Aston Villa     5     0   \n",
      "1896  E0  19/05/2024  16:00         Liverpool            Wolves     2     0   \n",
      "1897  E0  19/05/2024  16:00             Luton            Fulham     2     4   \n",
      "1898  E0  19/05/2024  16:00          Man City          West Ham     3     1   \n",
      "1899  E0  19/05/2024  16:00  Sheffield United         Tottenham     0     3   \n",
      "\n",
      "     FTR  HTHG  HTAG  ...    WHA    VCH    VCD    VCA   MaxH   MaxD   MaxA  \\\n",
      "0      H     4     0  ...  21.00   1.14   9.50  23.00   1.16  10.00  23.00   \n",
      "1      A     0     1  ...   1.24  12.00   6.50   1.25  13.00   6.75   1.29   \n",
      "2      D     0     0  ...   3.80   2.00   3.60   4.00   2.06   3.65   4.00   \n",
      "3      H     0     0  ...   2.75   2.70   3.30   2.80   2.80   3.33   2.85   \n",
      "4      D     0     0  ...   2.35   3.20   3.30   2.45   3.21   3.40   2.52   \n",
      "...   ..   ...   ...  ...    ...    ...    ...    ...    ...    ...    ...   \n",
      "1895   H     2     0  ...   3.50   1.80   4.00   3.70   1.93   4.50   3.84   \n",
      "1896   H     2     0  ...  15.00   1.13   8.00  15.00   1.18  10.00  17.00   \n",
      "1897   A     1     2  ...   2.20   2.88   3.75   2.20   3.00   4.35   2.30   \n",
      "1898   H     2     1  ...  21.00   1.07  10.50  22.00   1.11  14.00  25.00   \n",
      "1899   A     0     1  ...   1.30   7.50   5.75   1.30   7.90   6.34   1.39   \n",
      "\n",
      "       AvgH   AvgD   AvgA  \n",
      "0      1.14   8.75  19.83  \n",
      "1     11.84   6.28   1.25  \n",
      "2      2.01   3.53   3.83  \n",
      "3      2.68   3.22   2.78  \n",
      "4      3.13   3.27   2.40  \n",
      "...     ...    ...    ...  \n",
      "1895   1.87   4.28   3.67  \n",
      "1896   1.16   8.71  14.55  \n",
      "1897   2.92   3.95   2.23  \n",
      "1898   1.10  11.72  21.81  \n",
      "1899   7.32   6.04   1.35  \n",
      "\n",
      "[1900 rows x 45 columns]>\n"
     ]
    }
   ],
   "execution_count": 6
  },
  {
   "metadata": {
    "ExecuteTime": {
     "end_time": "2024-07-19T00:44:39.846020Z",
     "start_time": "2024-07-19T00:44:39.839864Z"
    }
   },
   "cell_type": "code",
   "source": "filtered_df.dropna(inplace=True)",
   "id": "4ae4f3f8eb8c1067",
   "outputs": [],
   "execution_count": 7
  },
  {
   "metadata": {
    "ExecuteTime": {
     "end_time": "2024-07-19T00:46:09.920936Z",
     "start_time": "2024-07-19T00:46:09.910770Z"
    }
   },
   "cell_type": "code",
   "source": [
    "numerical_var = filtered_df.select_dtypes(include=['int64', 'float64']).columns.tolist()\n",
    "categorical_var = filtered_df.select_dtypes(include=['object']).columns.tolist()\n",
    "\n",
    "print(\"Numerical variables:\", numerical_var)\n",
    "print(\"Categorical variables:\", categorical_var)"
   ],
   "id": "ecc255e25e8209a0",
   "outputs": [
    {
     "name": "stdout",
     "output_type": "stream",
     "text": [
      "Numerical variables: ['FTHG', 'FTAG', 'HTHG', 'HTAG', 'HS', 'AS', 'HST', 'AST', 'HF', 'AF', 'HC', 'AC', 'HY', 'AY', 'HR', 'AR', 'B365H', 'B365D', 'B365A', 'BWH', 'BWD', 'BWA', 'PSH', 'PSD', 'PSA', 'WHH', 'WHD', 'WHA', 'VCH', 'VCD', 'VCA', 'MaxH', 'MaxD', 'MaxA', 'AvgH', 'AvgD', 'AvgA']\n",
      "Categorical variables: ['Div', 'Date', 'Time', 'HomeTeam', 'AwayTeam', 'FTR', 'HTR', 'Referee']\n"
     ]
    }
   ],
   "execution_count": 9
  },
  {
   "metadata": {
    "ExecuteTime": {
     "end_time": "2024-07-19T01:18:10.507687Z",
     "start_time": "2024-07-19T01:18:10.500802Z"
    }
   },
   "cell_type": "code",
   "source": [
    "# Convert date and time column\n",
    "filtered_df['datetime'] = pd.to_datetime(merged_df['Date'] + ' ' + merged_df['Time'], errors='coerce')\n"
   ],
   "id": "a307b0ccafd08daa",
   "outputs": [],
   "execution_count": 13
  },
  {
   "metadata": {
    "ExecuteTime": {
     "end_time": "2024-07-19T01:18:36.800116Z",
     "start_time": "2024-07-19T01:18:36.785481Z"
    }
   },
   "cell_type": "code",
   "source": "print(filtered_df.head())",
   "id": "999f24aa38bde6e8",
   "outputs": [
    {
     "name": "stdout",
     "output_type": "stream",
     "text": [
      "  Div       Date                Time        HomeTeam          AwayTeam  FTHG  \\\n",
      "0  E0 2019-09-08 2024-07-18 20:00:00       Liverpool           Norwich     4   \n",
      "1  E0 2019-10-08 2024-07-18 12:30:00        West Ham          Man City     0   \n",
      "2  E0 2019-10-08 2024-07-18 15:00:00     Bournemouth  Sheffield United     1   \n",
      "3  E0 2019-10-08 2024-07-18 15:00:00         Burnley       Southampton     3   \n",
      "4  E0 2019-10-08 2024-07-18 15:00:00  Crystal Palace           Everton     0   \n",
      "\n",
      "   FTAG FTR  HTHG  HTAG  ...    VCH  VCD    VCA   MaxH   MaxD   MaxA   AvgH  \\\n",
      "0     1   H     4     0  ...   1.14  9.5  23.00   1.16  10.00  23.00   1.14   \n",
      "1     5   A     0     1  ...  12.00  6.5   1.25  13.00   6.75   1.29  11.84   \n",
      "2     1   D     0     0  ...   2.00  3.6   4.00   2.06   3.65   4.00   2.01   \n",
      "3     0   H     0     0  ...   2.70  3.3   2.80   2.80   3.33   2.85   2.68   \n",
      "4     0   D     0     0  ...   3.20  3.3   2.45   3.21   3.40   2.52   3.13   \n",
      "\n",
      "   AvgD   AvgA            datetime  \n",
      "0  8.75  19.83 2019-09-08 20:00:00  \n",
      "1  6.28   1.25 2019-10-08 12:30:00  \n",
      "2  3.53   3.83 2019-10-08 15:00:00  \n",
      "3  3.22   2.78 2019-10-08 15:00:00  \n",
      "4  3.27   2.40 2019-10-08 15:00:00  \n",
      "\n",
      "[5 rows x 46 columns]\n"
     ]
    }
   ],
   "execution_count": 14
  },
  {
   "metadata": {},
   "cell_type": "markdown",
   "source": "BASIC DESCRIPTIVE STATISTICS",
   "id": "4c3a6c2c2c43dcf4"
  },
  {
   "metadata": {
    "ExecuteTime": {
     "end_time": "2024-07-19T02:16:32.332912Z",
     "start_time": "2024-07-19T02:16:32.326Z"
    }
   },
   "cell_type": "code",
   "source": [
    "numerical_var = filtered_df.select_dtypes(include=['int64', 'float64']).columns.tolist()\n",
    "categorical_var = filtered_df.select_dtypes(include=['object']).columns.tolist()\n",
    "\n",
    "print(\"Numerical variables:\", numerical_var)\n",
    "print(\"Categorical variables:\", categorical_var)"
   ],
   "id": "ee5ade63d05e273",
   "outputs": [
    {
     "name": "stdout",
     "output_type": "stream",
     "text": [
      "Numerical variables: ['FTHG', 'FTAG', 'HTHG', 'HTAG', 'HS', 'AS', 'HST', 'AST', 'HF', 'AF', 'HC', 'AC', 'HY', 'AY', 'HR', 'AR', 'B365H', 'B365D', 'B365A', 'BWH', 'BWD', 'BWA', 'PSH', 'PSD', 'PSA', 'WHH', 'WHD', 'WHA', 'VCH', 'VCD', 'VCA', 'MaxH', 'MaxD', 'MaxA', 'AvgH', 'AvgD', 'AvgA']\n",
      "Categorical variables: ['Div', 'HomeTeam', 'AwayTeam', 'FTR', 'HTR', 'Referee']\n"
     ]
    }
   ],
   "execution_count": 16
  },
  {
   "metadata": {
    "ExecuteTime": {
     "end_time": "2024-07-19T02:39:14.174734Z",
     "start_time": "2024-07-19T02:39:14.162296Z"
    }
   },
   "cell_type": "code",
   "source": [
    "#To calculate cardinality\n",
    "cardinality = {var: len(filtered_df[var].value_counts()) for var in categorical_var}\n",
    "\n",
    "#From dictionaries to DF\n",
    "df_cardinality = pd.DataFrame(list(cardinality.items()), columns=['Variable', 'Cardinality'])\n",
    "#Sorting\n",
    "df_cardinality = df_cardinality.sort_values(by='Cardinality', ascending=False)"
   ],
   "id": "a0c75a7c6322233",
   "outputs": [],
   "execution_count": 19
  },
  {
   "metadata": {
    "ExecuteTime": {
     "end_time": "2024-07-19T02:39:31.214697Z",
     "start_time": "2024-07-19T02:39:30.801396Z"
    }
   },
   "cell_type": "code",
   "source": [
    "plt.figure(figsize=(12, 6))\n",
    "plt.bar(df_cardinality['Variable'], df_cardinality['Cardinality'], color='#119DA4')\n",
    "plt.xlabel('Categorical Variables')\n",
    "plt.ylabel('Cardinality')\n",
    "plt.title('Cardinality of Categorical Variables')\n",
    "plt.xticks(rotation=90)\n",
    "plt.tight_layout()\n",
    "plt.show()"
   ],
   "id": "98f5a5f0eb888bac",
   "outputs": [
    {
     "data": {
      "text/plain": [
       "<Figure size 1200x600 with 1 Axes>"
      ],
      "image/png": "[encoded data removed]"
     },
     "metadata": {},
     "output_type": "display_data"
    }
   ],
   "execution_count": 20
  },
  {
   "metadata": {},
   "cell_type": "code",
   "outputs": [],
   "execution_count": null,
   "source": "",
   "id": "58d61c47795487cc"
  },
  {
   "metadata": {
    "ExecuteTime": {
     "end_time": "2024-07-19T02:54:46.742186Z",
     "start_time": "2024-07-19T02:54:46.678310Z"
    }
   },
   "cell_type": "code",
   "source": [
    "# Summary statistics for numerical columns\n",
    "numerical_summary = filtered_df[numerical_var].describe(include='all')\n",
    "print(\"Summary Statistics for Numerical Variables:\\n\", numerical_summary)\n",
    "\n",
    "# Calculate mode for numerical columns\n",
    "numerical_mode = filtered_df[numerical_var].mode().iloc[0]\n",
    "print(\"\\nMode for Numerical Variables:\\n\", numerical_mode)\n"
   ],
   "id": "d43a3c5b121b6102",
   "outputs": [
    {
     "name": "stdout",
     "output_type": "stream",
     "text": [
      "Summary Statistics for Numerical Variables:\n",
      "               FTHG         FTAG         HTHG         HTAG           HS  \\\n",
      "count  1898.000000  1898.000000  1898.000000  1898.000000  1898.000000   \n",
      "mean      1.563751     1.310327     0.708114     0.586934    13.862487   \n",
      "std       1.344817     1.239445     0.859777     0.789412     5.746861   \n",
      "min       0.000000     0.000000     0.000000     0.000000     1.000000   \n",
      "25%       1.000000     0.000000     0.000000     0.000000    10.000000   \n",
      "50%       1.000000     1.000000     1.000000     0.000000    13.000000   \n",
      "75%       2.000000     2.000000     1.000000     1.000000    17.000000   \n",
      "max       9.000000     9.000000     5.000000     5.000000    36.000000   \n",
      "\n",
      "                AS          HST          AST           HF           AF  ...  \\\n",
      "count  1898.000000  1898.000000  1898.000000  1898.000000  1898.000000  ...   \n",
      "mean     11.603793     4.821918     4.111170    10.621707    10.798209  ...   \n",
      "std       5.188693     2.638650     2.428258     3.458496     3.628775  ...   \n",
      "min       1.000000     0.000000     0.000000     0.000000     1.000000  ...   \n",
      "25%       8.000000     3.000000     2.000000     8.000000     8.000000  ...   \n",
      "50%      11.000000     5.000000     4.000000    10.000000    11.000000  ...   \n",
      "75%      15.000000     6.000000     5.000000    13.000000    13.000000  ...   \n",
      "max      31.000000    15.000000    15.000000    23.000000    25.000000  ...   \n",
      "\n",
      "               WHA          VCH          VCD          VCA         MaxH  \\\n",
      "count  1898.000000  1898.000000  1898.000000  1898.000000  1898.000000   \n",
      "mean      4.626491     3.014125     4.162102     4.741886     3.179800   \n",
      "std       4.359189     2.379326     1.344472     4.586519     2.564366   \n",
      "min       1.110000     1.050000     2.900000     1.110000     1.090000   \n",
      "25%       2.150000     1.620000     3.400000     2.150000     1.710000   \n",
      "50%       3.150000     2.250000     3.700000     3.200000     2.385000   \n",
      "75%       5.250000     3.400000     4.330000     5.250000     3.520000   \n",
      "max      36.000000    19.000000    13.000000    41.000000    22.000000   \n",
      "\n",
      "              MaxD         MaxA         AvgH         AvgD         AvgA  \n",
      "count  1898.000000  1898.000000  1898.000000  1898.000000  1898.000000  \n",
      "mean      4.548240     5.112434     2.993193     4.291612     4.629810  \n",
      "std       1.626161     5.334615     2.235250     1.391472     4.283464  \n",
      "min       3.100000     1.170000     1.070000     2.970000     1.150000  \n",
      "25%       3.632500     2.242500     1.662500     3.480000     2.172500  \n",
      "50%       3.980000     3.320000     2.310000     3.800000     3.195000  \n",
      "75%       4.772500     5.600000     3.370000     4.540000     5.285000  \n",
      "max      17.000000    50.000000    18.090000    12.850000    37.570000  \n",
      "\n",
      "[8 rows x 37 columns]\n",
      "\n",
      "Mode for Numerical Variables:\n",
      " FTHG      1.00\n",
      "FTAG      1.00\n",
      "HTHG      0.00\n",
      "HTAG      0.00\n",
      "HS       13.00\n",
      "AS       10.00\n",
      "HST       4.00\n",
      "AST       3.00\n",
      "HF        9.00\n",
      "AF       10.00\n",
      "HC        5.00\n",
      "AC        3.00\n",
      "HY        1.00\n",
      "AY        1.00\n",
      "HR        0.00\n",
      "AR        0.00\n",
      "B365H     2.05\n",
      "B365D     3.50\n",
      "B365A     3.50\n",
      "BWH       2.00\n",
      "BWD       3.50\n",
      "BWA       3.10\n",
      "PSH       1.65\n",
      "PSD       3.51\n",
      "PSA       1.93\n",
      "WHH       2.05\n",
      "WHD       3.50\n",
      "WHA       6.50\n",
      "VCH       2.00\n",
      "VCD       3.50\n",
      "VCA       6.50\n",
      "MaxH      1.70\n",
      "MaxD      3.60\n",
      "MaxA      6.50\n",
      "AvgH      1.64\n",
      "AvgD      3.57\n",
      "AvgA      1.74\n",
      "Name: 0, dtype: float64\n"
     ]
    }
   ],
   "execution_count": 22
  },
  {
   "metadata": {
    "ExecuteTime": {
     "end_time": "2024-07-19T03:02:06.165445Z",
     "start_time": "2024-07-19T03:02:06.134933Z"
    }
   },
   "cell_type": "code",
   "source": [
    "# Summary statistics for categorical columns\n",
    "categorical_summary = filtered_df[categorical_var].describe(include='all')\n",
    "print(\"\\nSummary Statistics for Categorical Variables:\\n\", categorical_summary)\n",
    "\n",
    "# Mode for categorical columns\n",
    "categorical_mode = filtered_df[categorical_var].mode().iloc[0]\n",
    "print(\"\\nMode for Categorical Variables:\\n\", categorical_mode)\n"
   ],
   "id": "7755984f49633b5f",
   "outputs": [
    {
     "name": "stdout",
     "output_type": "stream",
     "text": [
      "\n",
      "Summary Statistics for Categorical Variables:\n",
      "          Div   HomeTeam AwayTeam   FTR   HTR   Referee\n",
      "count   1898       1898     1898  1898  1898      1898\n",
      "unique     1         26       26     3     3        38\n",
      "top       E0  Liverpool  Chelsea     H     D  A Taylor\n",
      "freq    1898         95       95   838   743       145\n",
      "\n",
      "Mode for Categorical Variables:\n",
      " Div               E0\n",
      "HomeTeam     Arsenal\n",
      "AwayTeam     Arsenal\n",
      "FTR                H\n",
      "HTR                D\n",
      "Referee     A Taylor\n",
      "Name: 0, dtype: object\n"
     ]
    }
   ],
   "execution_count": 23
  },
  {
   "metadata": {},
   "cell_type": "markdown",
   "source": "Distribution outcomes",
   "id": "71f67a0779347c55"
  },
  {
   "metadata": {
    "ExecuteTime": {
     "end_time": "2024-07-19T03:05:02.925278Z",
     "start_time": "2024-07-19T03:05:02.912506Z"
    }
   },
   "cell_type": "code",
   "source": [
    "# Count the occurrences of each result in Full Time Result (FTR)\n",
    "ftr_counts = filtered_df['FTR'].value_counts()\n",
    "print(\"\\nDistribution of Match Results (Full Time):\\n\", ftr_counts)\n",
    "\n",
    "# If you also have Half Time Result (HTR) and want to analyze it\n",
    "htr_counts = filtered_df['HTR'].value_counts()\n",
    "print(\"\\nDistribution of Match Results (Half Time):\\n\", htr_counts)\n"
   ],
   "id": "c015f4957507dff0",
   "outputs": [
    {
     "name": "stdout",
     "output_type": "stream",
     "text": [
      "\n",
      "Distribution of Match Results (Full Time):\n",
      " FTR\n",
      "H    838\n",
      "A    630\n",
      "D    430\n",
      "Name: count, dtype: int64\n",
      "\n",
      "Distribution of Match Results (Half Time):\n",
      " HTR\n",
      "D    743\n",
      "H    651\n",
      "A    504\n",
      "Name: count, dtype: int64\n"
     ]
    }
   ],
   "execution_count": 24
  },
  {
   "metadata": {
    "ExecuteTime": {
     "end_time": "2024-07-19T14:09:25.553783Z",
     "start_time": "2024-07-19T14:09:25.511884Z"
    }
   },
   "cell_type": "code",
   "source": [
    "# If you also have Half Time Result (HTR) and want to analyze it\n",
    "htr_counts = filtered_df['HTR'].value_counts()\n",
    "print(\"\\nDistribution of Match Results (Half Time):\\n\", htr_counts)"
   ],
   "id": "734149dffb75eeb2",
   "outputs": [
    {
     "name": "stdout",
     "output_type": "stream",
     "text": [
      "\n",
      "Distribution of Match Results (Half Time):\n",
      " HTR\n",
      "D    743\n",
      "H    651\n",
      "A    504\n",
      "Name: count, dtype: int64\n"
     ]
    }
   ],
   "execution_count": 25
  },
  {
   "metadata": {
    "ExecuteTime": {
     "end_time": "2024-07-19T14:10:00.551600Z",
     "start_time": "2024-07-19T14:10:00.151839Z"
    }
   },
   "cell_type": "code",
   "source": [
    "# Goals Analysis\n",
    "home_goals_stats = filtered_df['FTHG'].describe()\n",
    "away_goals_stats = filtered_df['FTAG'].describe()\n",
    "print(\"\\nHome Goals Statistics:\\n\", home_goals_stats)\n",
    "print(\"\\nAway Goals Statistics:\\n\", away_goals_stats)\n",
    "\n",
    "# Plot the distribution of goals scored by home and away teams\n",
    "plt.figure(figsize=(12, 6))\n",
    "\n",
    "plt.subplot(1, 2, 1)\n",
    "sns.histplot(filtered_df['FTHG'], kde=True)\n",
    "plt.title('Distribution of Full Time Home Goals')\n",
    "\n",
    "plt.subplot(1, 2, 2)\n",
    "sns.histplot(filtered_df['FTAG'], kde=True)\n",
    "plt.title('Distribution of Full Time Away Goals')\n",
    "\n",
    "plt.tight_layout()\n",
    "plt.show()"
   ],
   "id": "b72a70eb63644eb",
   "outputs": [
    {
     "name": "stdout",
     "output_type": "stream",
     "text": [
      "\n",
      "Home Goals Statistics:\n",
      " count    1898.000000\n",
      "mean        1.563751\n",
      "std         1.344817\n",
      "min         0.000000\n",
      "25%         1.000000\n",
      "50%         1.000000\n",
      "75%         2.000000\n",
      "max         9.000000\n",
      "Name: FTHG, dtype: float64\n",
      "\n",
      "Away Goals Statistics:\n",
      " count    1898.000000\n",
      "mean        1.310327\n",
      "std         1.239445\n",
      "min         0.000000\n",
      "25%         0.000000\n",
      "50%         1.000000\n",
      "75%         2.000000\n",
      "max         9.000000\n",
      "Name: FTAG, dtype: float64\n"
     ]
    },
    {
     "name": "stderr",
     "output_type": "stream",
     "text": [
      "/opt/anaconda3/lib/python3.11/site-packages/seaborn/_oldcore.py:1119: FutureWarning: use_inf_as_na option is deprecated and will be removed in a future version. Convert inf values to NaN before operating instead.\n",
      "  with pd.option_context('mode.use_inf_as_na', True):\n",
      "/opt/anaconda3/lib/python3.11/site-packages/seaborn/_oldcore.py:1119: FutureWarning: use_inf_as_na option is deprecated and will be removed in a future version. Convert inf values to NaN before operating instead.\n",
      "  with pd.option_context('mode.use_inf_as_na', True):\n"
     ]
    },
    {
     "data": {
      "text/plain": [
       "<Figure size 1200x600 with 2 Axes>"
      ],
      "image/png": "[encoded data removed]"
     },
     "metadata": {},
     "output_type": "display_data"
    }
   ],
   "execution_count": 26
  },
  {
   "metadata": {
    "ExecuteTime": {
     "end_time": "2024-07-19T15:52:45.504982Z",
     "start_time": "2024-07-19T15:52:45.441814Z"
    }
   },
   "cell_type": "code",
   "source": [
    "# Define numerical columns\n",
    "numerical_columns = ['FTHG', 'FTAG', 'HTHG', 'HTAG', 'HS', 'AS', 'HST', 'AST', 'HF', 'AF', 'HC', 'AC',\n",
    "                     'HY', 'AY', 'HR', 'AR', 'B365H', 'B365D', 'B365A', 'BWH', 'BWD', 'BWA', 'PSH', 'PSD',\n",
    "                     'PSA', 'WHH',  'VCD', 'VCA', 'MaxH', 'MaxD', 'MaxA', 'AvgH',\n",
    "                     'AvgD', 'AvgA']\n",
    "\n",
    "categorical_columns = ['Div', 'HomeTeam', 'AwayTeam', 'FTR', 'HTR', 'Referee']\n",
    "\n",
    "# Convert numerical columns to numeric, forcing errors to NaN\n",
    "for col in numerical_columns:\n",
    "    filtered_df[col] = pd.to_numeric(filtered_df[col], errors='coerce')\n",
    "\n",
    "# Identify columns with infinite values\n",
    "infinite_columns = filtered_df.columns.to_series()[np.isinf(filtered_df.to_numpy()).any()]\n",
    "print(\"Columns with infinite values:\\n\", infinite_columns)\n",
    "\n",
    "# Display rows with infinite values\n",
    "infinite_rows = filtered_df[np.isinf(filtered_df.to_numpy()).any(axis=1)]\n",
    "print(\"\\nRows with infinite values:\\n\", infinite_rows)"
   ],
   "id": "9fcda5b142ff8b4b",
   "outputs": [
    {
     "ename": "TypeError",
     "evalue": "ufunc 'isinf' not supported for the input types, and the inputs could not be safely coerced to any supported types according to the casting rule ''safe''",
     "output_type": "error",
     "traceback": [
      "\u001B[0;31m---------------------------------------------------------------------------\u001B[0m",
      "\u001B[0;31mTypeError\u001B[0m                                 Traceback (most recent call last)",
      "Cell \u001B[0;32mIn[31], line 14\u001B[0m\n\u001B[1;32m     11\u001B[0m     filtered_df[col] \u001B[38;5;241m=\u001B[39m pd\u001B[38;5;241m.\u001B[39mto_numeric(filtered_df[col], errors\u001B[38;5;241m=\u001B[39m\u001B[38;5;124m'\u001B[39m\u001B[38;5;124mcoerce\u001B[39m\u001B[38;5;124m'\u001B[39m)\n\u001B[1;32m     13\u001B[0m \u001B[38;5;66;03m# Identify columns with infinite values\u001B[39;00m\n\u001B[0;32m---> 14\u001B[0m infinite_columns \u001B[38;5;241m=\u001B[39m filtered_df\u001B[38;5;241m.\u001B[39mcolumns\u001B[38;5;241m.\u001B[39mto_series()[np\u001B[38;5;241m.\u001B[39misinf(filtered_df\u001B[38;5;241m.\u001B[39mto_numpy())\u001B[38;5;241m.\u001B[39many()]\n\u001B[1;32m     15\u001B[0m \u001B[38;5;28mprint\u001B[39m(\u001B[38;5;124m\"\u001B[39m\u001B[38;5;124mColumns with infinite values:\u001B[39m\u001B[38;5;130;01m\\n\u001B[39;00m\u001B[38;5;124m\"\u001B[39m, infinite_columns)\n\u001B[1;32m     17\u001B[0m \u001B[38;5;66;03m# Display rows with infinite values\u001B[39;00m\n",
      "\u001B[0;31mTypeError\u001B[0m: ufunc 'isinf' not supported for the input types, and the inputs could not be safely coerced to any supported types according to the casting rule ''safe''"
     ]
    }
   ],
   "execution_count": 31
  },
  {
   "metadata": {},
   "cell_type": "code",
   "outputs": [],
   "execution_count": null,
   "source": "",
   "id": "c45401bdb02a2539"
  }
 ],
 "metadata": {
  "kernelspec": {
   "display_name": "Python 3",
   "language": "python",
   "name": "python3"
  },
  "language_info": {
   "codemirror_mode": {
    "name": "ipython",
    "version": 2
   },
   "file_extension": ".py",
   "mimetype": "text/x-python",
   "name": "python",
   "nbconvert_exporter": "python",
   "pygments_lexer": "ipython2",
   "version": "2.7.6"
  }
 },
 "nbformat": 4,
 "nbformat_minor": 5
}
