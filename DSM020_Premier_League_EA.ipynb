{
 "cells": [
  {
   "metadata": {},
   "cell_type": "markdown",
   "source": [
    "<!DOCTYPE html>\n",
    "<html lang=\"en\">\n",
    "<head>\n",
    "    <meta charset=\"UTF-8\">\n",
    "    <meta name=\"viewport\" content=\"width=device-width, initial-scale=1.0\">\n",
    "    <title>Styled HTML Template</title>\n",
    "    <link rel=\"preconnect\" href=\"https://fonts.googleapis.com\">\n",
    "    <link rel=\"preconnect\" href=\"https://fonts.gstatic.com\" crossorigin>\n",
    "    <link href=\"https://fonts.googleapis.com/css2?family=Open+Sans:ital,wght@0,300..800;1,300..800&display=swap\" rel=\"stylesheet\">\n",
    "</head>\n",
    "<body style=\"font-family: 'Open Sans', sans-serif;\">\n",
    "    <h1 style=\"color: #2c3e50; font-weight: 700;\">DSM020 Premier League Exploratory Analysis</h1>\n",
    "    <p style=\"color: #AA6373; font-weight: 400;\">Presented by: Jorge Forero L.</p>\n",
    "    <p style=\"color: #AA6373; font-weight: 400;\">Student Number: 240323983</p>\n",
    "    <p style=\"color: #AA6373; font-weight: 400;\">Student Portal Username: JEFL1</p>\n",
    "</body>\n",
    "</html>\n"
   ],
   "id": "5fd318a2ceaad36c"
  },
  {
   "cell_type": "code",
   "id": "initial_id",
   "metadata": {
    "collapsed": true,
    "ExecuteTime": {
     "end_time": "2024-07-18T18:51:16.310630Z",
     "start_time": "2024-07-18T18:51:16.306894Z"
    }
   },
   "source": [
    "import numpy as np\n",
    "import pandas as pd\n",
    "import seaborn as sns\n",
    "import matplotlib.pyplot as plt"
   ],
   "outputs": [],
   "execution_count": 1
  },
  {
   "metadata": {
    "ExecuteTime": {
     "end_time": "2024-07-18T19:15:14.741432Z",
     "start_time": "2024-07-18T19:15:14.697232Z"
    }
   },
   "cell_type": "code",
   "source": [
    "#Load Data\n",
    "\n",
    "Season2020 = '/Users/jorgeforero/University of London/DSM020 - Data Programming in Python/Premier_League_Data_Analysis/Season_2019-2020.csv'\n",
    "Season2021 = '/Users/jorgeforero/University of London/DSM020 - Data Programming in Python/Premier_League_Data_Analysis/Season_2020-2021.csv'\n",
    "Season2022 = '/Users/jorgeforero/University of London/DSM020 - Data Programming in Python/Premier_League_Data_Analysis/Season_2021-2022.csv'\n",
    "Season2023 = '/Users/jorgeforero/University of London/DSM020 - Data Programming in Python/Premier_League_Data_Analysis/Season_2022-2023.csv'\n",
    "Season2024 = '/Users/jorgeforero/University of London/DSM020 - Data Programming in Python/Premier_League_Data_Analysis/Season_2023-2024.csv'\n",
    "\n",
    "df2020 = pd.read_csv(Season2020)\n",
    "df2021 = pd.read_csv(Season2021)\n",
    "df2022 = pd.read_csv(Season2022)\n",
    "df2023 = pd.read_csv(Season2023)\n",
    "df2024 = pd.read_csv(Season2024)\n",
    "\n",
    "merged_df = pd.concat([df2020, df2021, df2022, df2023, df2024], ignore_index=True)"
   ],
   "id": "955417fe9149dd3b",
   "outputs": [],
   "execution_count": 4
  },
  {
   "metadata": {
    "ExecuteTime": {
     "end_time": "2024-07-18T19:15:17.641941Z",
     "start_time": "2024-07-18T19:15:17.636923Z"
    }
   },
   "cell_type": "code",
   "source": [
    "#Missing Values\n",
    "missing_values = merged_df.isnull().sum()\n",
    "\n",
    "print(\"Missing values per column\")\n",
    "print(missing_values)"
   ],
   "id": "79285f4494d09e5c",
   "outputs": [
    {
     "name": "stdout",
     "output_type": "stream",
     "text": [
      "Missing values per column\n",
      "Div         0\n",
      "Date        0\n",
      "Time        0\n",
      "HomeTeam    0\n",
      "AwayTeam    0\n",
      "           ..\n",
      "PCAHA       0\n",
      "MaxCAHH     1\n",
      "MaxCAHA     1\n",
      "AvgCAHH     0\n",
      "AvgCAHA     0\n",
      "Length: 106, dtype: int64\n"
     ]
    }
   ],
   "execution_count": 5
  },
  {
   "metadata": {},
   "cell_type": "code",
   "outputs": [],
   "execution_count": null,
   "source": "",
   "id": "4ae4f3f8eb8c1067"
  }
 ],
 "metadata": {
  "kernelspec": {
   "display_name": "Python 3",
   "language": "python",
   "name": "python3"
  },
  "language_info": {
   "codemirror_mode": {
    "name": "ipython",
    "version": 2
   },
   "file_extension": ".py",
   "mimetype": "text/x-python",
   "name": "python",
   "nbconvert_exporter": "python",
   "pygments_lexer": "ipython2",
   "version": "2.7.6"
  }
 },
 "nbformat": 4,
 "nbformat_minor": 5
}
